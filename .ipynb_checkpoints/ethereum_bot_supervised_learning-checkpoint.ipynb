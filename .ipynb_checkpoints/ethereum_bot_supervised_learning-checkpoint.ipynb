{
 "cells": [
  {
   "cell_type": "code",
   "execution_count": 1,
   "id": "6b48e000",
   "metadata": {},
   "outputs": [],
   "source": [
    "import pandas as pd\n",
    "import numpy as np\n",
    "import matplotlib.pyplot as plt\n",
    "import seaborn as sns\n",
    "\n",
    "#Import ML package\n",
    "\n",
    "from sklearn.cluster import KMeans\n",
    "from sklearn import preprocessing\n",
    "from sklearn.preprocessing import StandardScaler, MinMaxScaler\n",
    "from sklearn.model_selection import train_test_split\n",
    "from sklearn.linear_model import LogisticRegression\n",
    "\n",
    "from scipy.cluster.hierarchy import dendrogram, linkage\n",
    "from scipy.cluster.hierarchy import fcluster"
   ]
  },
  {
   "cell_type": "code",
   "execution_count": 2,
   "id": "153d9b72",
   "metadata": {},
   "outputs": [],
   "source": [
    "eth_uniswap = pd.read_csv('etherum_uniswap_wallet_activities.csv')\n",
    "eth_bot = pd.read_csv('eth_mev_bot.csv')"
   ]
  },
  {
   "cell_type": "code",
   "execution_count": 3,
   "id": "382945f0",
   "metadata": {},
   "outputs": [],
   "source": [
    "eth_uniswap['bot'] = np.where(eth_uniswap['from_address'].isin(eth_bot['eth_bot_address']), 1, 0) "
   ]
  },
  {
   "cell_type": "code",
   "execution_count": 4,
   "id": "ccab70c1",
   "metadata": {},
   "outputs": [
    {
     "data": {
      "text/html": [
       "<div>\n",
       "<style scoped>\n",
       "    .dataframe tbody tr th:only-of-type {\n",
       "        vertical-align: middle;\n",
       "    }\n",
       "\n",
       "    .dataframe tbody tr th {\n",
       "        vertical-align: top;\n",
       "    }\n",
       "\n",
       "    .dataframe thead th {\n",
       "        text-align: right;\n",
       "    }\n",
       "</style>\n",
       "<table border=\"1\" class=\"dataframe\">\n",
       "  <thead>\n",
       "    <tr style=\"text-align: right;\">\n",
       "      <th></th>\n",
       "      <th>from_address</th>\n",
       "      <th>no_day_active</th>\n",
       "      <th>total_tx</th>\n",
       "      <th>avg_hour_act_per_day</th>\n",
       "      <th>avg_hour_freq</th>\n",
       "      <th>bot</th>\n",
       "    </tr>\n",
       "  </thead>\n",
       "  <tbody>\n",
       "    <tr>\n",
       "      <th>0</th>\n",
       "      <td>0xa1006d0051a35b0000f961a8000000009ea8d2db</td>\n",
       "      <td>21</td>\n",
       "      <td>820</td>\n",
       "      <td>14.571429</td>\n",
       "      <td>2.000000</td>\n",
       "      <td>0</td>\n",
       "    </tr>\n",
       "    <tr>\n",
       "      <th>1</th>\n",
       "      <td>0x000000000dfde7deaf24138722987c9a6991e2d4</td>\n",
       "      <td>21</td>\n",
       "      <td>1588</td>\n",
       "      <td>16.714286</td>\n",
       "      <td>3.761905</td>\n",
       "      <td>1</td>\n",
       "    </tr>\n",
       "  </tbody>\n",
       "</table>\n",
       "</div>"
      ],
      "text/plain": [
       "                                 from_address  no_day_active  total_tx  \\\n",
       "0  0xa1006d0051a35b0000f961a8000000009ea8d2db             21       820   \n",
       "1  0x000000000dfde7deaf24138722987c9a6991e2d4             21      1588   \n",
       "\n",
       "   avg_hour_act_per_day  avg_hour_freq  bot  \n",
       "0             14.571429       2.000000    0  \n",
       "1             16.714286       3.761905    1  "
      ]
     },
     "execution_count": 4,
     "metadata": {},
     "output_type": "execute_result"
    }
   ],
   "source": [
    "eth_uniswap.head(2)"
   ]
  },
  {
   "cell_type": "code",
   "execution_count": 5,
   "id": "c2456fab",
   "metadata": {},
   "outputs": [
    {
     "data": {
      "text/plain": [
       "0    304\n",
       "1     63\n",
       "Name: bot, dtype: int64"
      ]
     },
     "execution_count": 5,
     "metadata": {},
     "output_type": "execute_result"
    }
   ],
   "source": [
    "eth_uniswap['bot'].value_counts()"
   ]
  },
  {
   "cell_type": "markdown",
   "id": "6e4ec5ff",
   "metadata": {},
   "source": [
    "supervised learning with logistic regression"
   ]
  },
  {
   "cell_type": "code",
   "execution_count": 6,
   "id": "c2c62d57",
   "metadata": {},
   "outputs": [],
   "source": [
    "X = eth_uniswap.drop(columns = ['from_address','bot'], axis = 1)\n",
    "y = eth_uniswap['bot']"
   ]
  },
  {
   "cell_type": "code",
   "execution_count": 7,
   "id": "29156b6e",
   "metadata": {},
   "outputs": [
    {
     "name": "stdout",
     "output_type": "stream",
     "text": [
      "Train model score:  0.8205128205128205\n",
      "Val model score:  0.7796610169491526\n",
      "Test model score:  0.8918918918918919\n"
     ]
    }
   ],
   "source": [
    "lg_reg = LogisticRegression()\n",
    "X_train, X_test, y_train, y_test = train_test_split(X,y, test_size = 0.2)\n",
    "X_train, X_val,y_train, y_val = train_test_split(X_train, y_train, test_size = 0.2)\n",
    "\n",
    "lg_reg.fit(X_train, y_train)\n",
    "y_val_pred = lg_reg.predict(X_val)\n",
    "print(\"Train model score: \", lg_reg.score(X_train, y_train))\n",
    "print (\"Val model score: \",lg_reg.score(X_val, y_val))\n",
    "print (\"Test model score: \",lg_reg.score(X_test, y_test))"
   ]
  },
  {
   "cell_type": "code",
   "execution_count": 8,
   "id": "838e324a",
   "metadata": {},
   "outputs": [
    {
     "name": "stdout",
     "output_type": "stream",
     "text": [
      "Feature: 0, Score: 0.05693\n",
      "Feature: 1, Score: -0.00037\n",
      "Feature: 2, Score: 0.07941\n",
      "Feature: 3, Score: 0.13825\n"
     ]
    }
   ],
   "source": [
    "# get importance\n",
    "importance = lg_reg.coef_[0]\n",
    "\n",
    "# summarize feature importance\n",
    "for i,v in enumerate(importance):\n",
    "     print('Feature: %0d, Score: %.5f' % (i,v))"
   ]
  },
  {
   "cell_type": "code",
   "execution_count": 9,
   "id": "1533417b",
   "metadata": {},
   "outputs": [
    {
     "data": {
      "image/png": "[encoded data removed]",
      "text/plain": [
       "<Figure size 720x576 with 1 Axes>"
      ]
     },
     "metadata": {
      "needs_background": "light"
     },
     "output_type": "display_data"
    }
   ],
   "source": [
    "# get feature name\n",
    "feature = np.array(X.columns)\n",
    "feature_importances = pd.DataFrame(list(zip(feature,importance)), columns = ['feature','importances'])\n",
    "# plot feature importance\n",
    "plt.figure(figsize=(10, 8))\n",
    "plt.bar(feature_importances['feature'], feature_importances['importances'])\n",
    "plt.show()"
   ]
  },
  {
   "cell_type": "code",
   "execution_count": null,
   "id": "af668688",
   "metadata": {},
   "outputs": [],
   "source": []
  }
 ],
 "metadata": {
  "kernelspec": {
   "display_name": "Python 3 (ipykernel)",
   "language": "python",
   "name": "python3"
  },
  "language_info": {
   "codemirror_mode": {
    "name": "ipython",
    "version": 3
   },
   "file_extension": ".py",
   "mimetype": "text/x-python",
   "name": "python",
   "nbconvert_exporter": "python",
   "pygments_lexer": "ipython3",
   "version": "3.9.7"
  }
 },
 "nbformat": 4,
 "nbformat_minor": 5
}
