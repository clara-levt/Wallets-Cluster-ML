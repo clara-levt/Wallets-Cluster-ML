{
 "cells": [
  {
   "cell_type": "code",
   "execution_count": 1,
   "id": "6b48e000",
   "metadata": {},
   "outputs": [],
   "source": [
    "import pandas as pd\n",
    "import numpy as np\n",
    "import matplotlib.pyplot as plt\n",
    "import seaborn as sns\n",
    "\n",
    "#Import ML package\n",
    "\n",
    "from sklearn.cluster import KMeans\n",
    "from sklearn import preprocessing\n",
    "#from sklearn.preprocessing import StandardScaler, MinMaxScaler\n",
    "from sklearn.model_selection import train_test_split\n",
    "from sklearn.linear_model import LogisticRegression\n",
    "\n",
    "# from scipy.cluster.hierarchy import dendrogram, linkage\n",
    "# from scipy.cluster.hierarchy import fcluster"
   ]
  },
  {
   "cell_type": "code",
   "execution_count": 2,
   "id": "153d9b72",
   "metadata": {},
   "outputs": [],
   "source": [
    "eth_uniswap = pd.read_csv('etherum_uniswap_wallet_activities.csv')\n",
    "eth_bot = pd.read_csv('eth_mev_bot.csv')"
   ]
  },
  {
   "cell_type": "code",
   "execution_count": 3,
   "id": "382945f0",
   "metadata": {},
   "outputs": [],
   "source": [
    "eth_uniswap['bot'] = np.where(eth_uniswap['from_address'].isin(eth_bot['eth_bot_address']), 1, 0) "
   ]
  },
  {
   "cell_type": "code",
   "execution_count": 4,
   "id": "ccab70c1",
   "metadata": {},
   "outputs": [
    {
     "data": {
      "text/html": [
       "<div>\n",
       "<style scoped>\n",
       "    .dataframe tbody tr th:only-of-type {\n",
       "        vertical-align: middle;\n",
       "    }\n",
       "\n",
       "    .dataframe tbody tr th {\n",
       "        vertical-align: top;\n",
       "    }\n",
       "\n",
       "    .dataframe thead th {\n",
       "        text-align: right;\n",
       "    }\n",
       "</style>\n",
       "<table border=\"1\" class=\"dataframe\">\n",
       "  <thead>\n",
       "    <tr style=\"text-align: right;\">\n",
       "      <th></th>\n",
       "      <th>from_address</th>\n",
       "      <th>no_day_active</th>\n",
       "      <th>total_tx</th>\n",
       "      <th>avg_hour_act_per_day</th>\n",
       "      <th>avg_hour_freq</th>\n",
       "      <th>bot</th>\n",
       "    </tr>\n",
       "  </thead>\n",
       "  <tbody>\n",
       "    <tr>\n",
       "      <th>0</th>\n",
       "      <td>0xa1006d0051a35b0000f961a8000000009ea8d2db</td>\n",
       "      <td>21</td>\n",
       "      <td>820</td>\n",
       "      <td>14.571429</td>\n",
       "      <td>2.000000</td>\n",
       "      <td>0</td>\n",
       "    </tr>\n",
       "    <tr>\n",
       "      <th>1</th>\n",
       "      <td>0x000000000dfde7deaf24138722987c9a6991e2d4</td>\n",
       "      <td>21</td>\n",
       "      <td>1588</td>\n",
       "      <td>16.714286</td>\n",
       "      <td>3.761905</td>\n",
       "      <td>1</td>\n",
       "    </tr>\n",
       "  </tbody>\n",
       "</table>\n",
       "</div>"
      ],
      "text/plain": [
       "                                 from_address  no_day_active  total_tx  \\\n",
       "0  0xa1006d0051a35b0000f961a8000000009ea8d2db             21       820   \n",
       "1  0x000000000dfde7deaf24138722987c9a6991e2d4             21      1588   \n",
       "\n",
       "   avg_hour_act_per_day  avg_hour_freq  bot  \n",
       "0             14.571429       2.000000    0  \n",
       "1             16.714286       3.761905    1  "
      ]
     },
     "execution_count": 4,
     "metadata": {},
     "output_type": "execute_result"
    }
   ],
   "source": [
    "eth_uniswap.head(2)"
   ]
  },
  {
   "cell_type": "code",
   "execution_count": 5,
   "id": "c2456fab",
   "metadata": {},
   "outputs": [
    {
     "data": {
      "text/plain": [
       "0    304\n",
       "1     63\n",
       "Name: bot, dtype: int64"
      ]
     },
     "execution_count": 5,
     "metadata": {},
     "output_type": "execute_result"
    }
   ],
   "source": [
    "eth_uniswap['bot'].value_counts()"
   ]
  },
  {
   "cell_type": "markdown",
   "id": "6e4ec5ff",
   "metadata": {},
   "source": [
    "supervised learning with logistic regression"
   ]
  },
  {
   "cell_type": "code",
   "execution_count": 6,
   "id": "c2c62d57",
   "metadata": {},
   "outputs": [],
   "source": [
    "X = eth_uniswap.drop(columns = ['from_address','bot'], axis = 1)\n",
    "y = eth_uniswap['bot']"
   ]
  },
  {
   "cell_type": "code",
   "execution_count": 40,
   "id": "29156b6e",
   "metadata": {},
   "outputs": [
    {
     "name": "stdout",
     "output_type": "stream",
     "text": [
      "Train model score:  0.8076923076923077\n",
      "Val model score:  0.864406779661017\n",
      "Test model score:  0.8513513513513513\n"
     ]
    }
   ],
   "source": [
    "lg_reg = LogisticRegression()\n",
    "X_train, X_test, y_train, y_test = train_test_split(X,y, test_size = 0.2)\n",
    "X_train, X_val,y_train, y_val = train_test_split(X_train, y_train, test_size = 0.2)\n",
    "\n",
    "lg_reg.fit(X_train, y_train)\n",
    "y_val_pred = lg_reg.predict(X_val)\n",
    "print(\"Train model score: \", lg_reg.score(X_train, y_train))\n",
    "print (\"Val model score: \",lg_reg.score(X_val, y_val))\n",
    "print (\"Test model score: \",lg_reg.score(X_test, y_test))"
   ]
  },
  {
   "cell_type": "code",
   "execution_count": 35,
   "id": "838e324a",
   "metadata": {},
   "outputs": [
    {
     "name": "stdout",
     "output_type": "stream",
     "text": [
      "Feature: 0, Score: 0.06968\n",
      "Feature: 1, Score: 0.00001\n",
      "Feature: 2, Score: 0.04589\n",
      "Feature: 3, Score: -0.00557\n"
     ]
    }
   ],
   "source": [
    "# get importance\n",
    "importance = lg_reg.coef_[0]\n",
    "\n",
    "# summarize feature importance\n",
    "for i,v in enumerate(importance):\n",
    "     print('Feature: %0d, Score: %.5f' % (i,v))"
   ]
  },
  {
   "cell_type": "code",
   "execution_count": 9,
   "id": "1533417b",
   "metadata": {},
   "outputs": [
    {
     "data": {
      "image/png": "[encoded data removed]",
      "text/plain": [
       "<Figure size 720x576 with 1 Axes>"
      ]
     },
     "metadata": {
      "needs_background": "light"
     },
     "output_type": "display_data"
    }
   ],
   "source": [
    "# get feature name\n",
    "feature = np.array(X.columns)\n",
    "feature_importances = pd.DataFrame(list(zip(feature,importance)), columns = ['feature','importances'])\n",
    "# plot feature importance\n",
    "plt.figure(figsize=(10, 8))\n",
    "plt.bar(feature_importances['feature'], feature_importances['importances'])\n",
    "plt.show()"
   ]
  },
  {
   "cell_type": "code",
   "execution_count": 52,
   "id": "af668688",
   "metadata": {},
   "outputs": [],
   "source": [
    "sushiswap = pd.read_csv('etherum_sushiswap_wallet_activities.csv')"
   ]
  },
  {
   "cell_type": "code",
   "execution_count": 53,
   "id": "93af5528",
   "metadata": {},
   "outputs": [
    {
     "data": {
      "text/html": [
       "<div>\n",
       "<style scoped>\n",
       "    .dataframe tbody tr th:only-of-type {\n",
       "        vertical-align: middle;\n",
       "    }\n",
       "\n",
       "    .dataframe tbody tr th {\n",
       "        vertical-align: top;\n",
       "    }\n",
       "\n",
       "    .dataframe thead th {\n",
       "        text-align: right;\n",
       "    }\n",
       "</style>\n",
       "<table border=\"1\" class=\"dataframe\">\n",
       "  <thead>\n",
       "    <tr style=\"text-align: right;\">\n",
       "      <th></th>\n",
       "      <th>from_address</th>\n",
       "      <th>no_day_active</th>\n",
       "      <th>total_tx</th>\n",
       "      <th>avg_hour_act_per_day</th>\n",
       "      <th>avg_hour_freq</th>\n",
       "    </tr>\n",
       "  </thead>\n",
       "  <tbody>\n",
       "    <tr>\n",
       "      <th>0</th>\n",
       "      <td>0xf314ad60c32f80671d00e3de35e44a130829b795</td>\n",
       "      <td>3</td>\n",
       "      <td>11</td>\n",
       "      <td>2.000000</td>\n",
       "      <td>1.333333</td>\n",
       "    </tr>\n",
       "    <tr>\n",
       "      <th>1</th>\n",
       "      <td>0x000000000035b5e5ad9019092c665357240f594e</td>\n",
       "      <td>9</td>\n",
       "      <td>1021</td>\n",
       "      <td>20.111111</td>\n",
       "      <td>5.222222</td>\n",
       "    </tr>\n",
       "    <tr>\n",
       "      <th>2</th>\n",
       "      <td>0x000000000000f0bc41c73af48f022f8c27b5350e</td>\n",
       "      <td>3</td>\n",
       "      <td>3</td>\n",
       "      <td>1.000000</td>\n",
       "      <td>1.000000</td>\n",
       "    </tr>\n",
       "    <tr>\n",
       "      <th>3</th>\n",
       "      <td>0x0ed9fa7a9222125d22502dbb4a93dd3705d777ac</td>\n",
       "      <td>4</td>\n",
       "      <td>11</td>\n",
       "      <td>2.500000</td>\n",
       "      <td>1.000000</td>\n",
       "    </tr>\n",
       "    <tr>\n",
       "      <th>4</th>\n",
       "      <td>0x8fe7d9643077b4ab2885cb2dad4236cc4784413f</td>\n",
       "      <td>9</td>\n",
       "      <td>233</td>\n",
       "      <td>12.333333</td>\n",
       "      <td>1.444444</td>\n",
       "    </tr>\n",
       "  </tbody>\n",
       "</table>\n",
       "</div>"
      ],
      "text/plain": [
       "                                 from_address  no_day_active  total_tx  \\\n",
       "0  0xf314ad60c32f80671d00e3de35e44a130829b795              3        11   \n",
       "1  0x000000000035b5e5ad9019092c665357240f594e              9      1021   \n",
       "2  0x000000000000f0bc41c73af48f022f8c27b5350e              3         3   \n",
       "3  0x0ed9fa7a9222125d22502dbb4a93dd3705d777ac              4        11   \n",
       "4  0x8fe7d9643077b4ab2885cb2dad4236cc4784413f              9       233   \n",
       "\n",
       "   avg_hour_act_per_day  avg_hour_freq  \n",
       "0              2.000000       1.333333  \n",
       "1             20.111111       5.222222  \n",
       "2              1.000000       1.000000  \n",
       "3              2.500000       1.000000  \n",
       "4             12.333333       1.444444  "
      ]
     },
     "execution_count": 53,
     "metadata": {},
     "output_type": "execute_result"
    }
   ],
   "source": [
    "sushiswap.head()"
   ]
  },
  {
   "cell_type": "code",
   "execution_count": 54,
   "id": "c3321b68",
   "metadata": {},
   "outputs": [],
   "source": [
    "sushi_X = sushiswap.drop(columns = ['from_address'])\n",
    "sushi_X_scaled = preprocessing.MinMaxScaler().fit_transform(sushi_X)"
   ]
  },
  {
   "cell_type": "code",
   "execution_count": 55,
   "id": "371d2bef",
   "metadata": {},
   "outputs": [],
   "source": [
    "sushi_pred = lg_reg.predict(sushi_X)"
   ]
  },
  {
   "cell_type": "code",
   "execution_count": 56,
   "id": "c5167852",
   "metadata": {},
   "outputs": [],
   "source": [
    "sushi_pred_df = pd.DataFrame(sushi_pred, columns = ['bot'])"
   ]
  },
  {
   "cell_type": "code",
   "execution_count": 57,
   "id": "270e1124",
   "metadata": {},
   "outputs": [
    {
     "data": {
      "text/html": [
       "<div>\n",
       "<style scoped>\n",
       "    .dataframe tbody tr th:only-of-type {\n",
       "        vertical-align: middle;\n",
       "    }\n",
       "\n",
       "    .dataframe tbody tr th {\n",
       "        vertical-align: top;\n",
       "    }\n",
       "\n",
       "    .dataframe thead th {\n",
       "        text-align: right;\n",
       "    }\n",
       "</style>\n",
       "<table border=\"1\" class=\"dataframe\">\n",
       "  <thead>\n",
       "    <tr style=\"text-align: right;\">\n",
       "      <th></th>\n",
       "      <th>from_address</th>\n",
       "      <th>no_day_active</th>\n",
       "      <th>total_tx</th>\n",
       "      <th>avg_hour_act_per_day</th>\n",
       "      <th>avg_hour_freq</th>\n",
       "      <th>bot</th>\n",
       "    </tr>\n",
       "  </thead>\n",
       "  <tbody>\n",
       "    <tr>\n",
       "      <th>0</th>\n",
       "      <td>0xf314ad60c32f80671d00e3de35e44a130829b795</td>\n",
       "      <td>3</td>\n",
       "      <td>11</td>\n",
       "      <td>2.000000</td>\n",
       "      <td>1.333333</td>\n",
       "      <td>0</td>\n",
       "    </tr>\n",
       "    <tr>\n",
       "      <th>1</th>\n",
       "      <td>0x000000000035b5e5ad9019092c665357240f594e</td>\n",
       "      <td>9</td>\n",
       "      <td>1021</td>\n",
       "      <td>20.111111</td>\n",
       "      <td>5.222222</td>\n",
       "      <td>0</td>\n",
       "    </tr>\n",
       "    <tr>\n",
       "      <th>2</th>\n",
       "      <td>0x000000000000f0bc41c73af48f022f8c27b5350e</td>\n",
       "      <td>3</td>\n",
       "      <td>3</td>\n",
       "      <td>1.000000</td>\n",
       "      <td>1.000000</td>\n",
       "      <td>0</td>\n",
       "    </tr>\n",
       "    <tr>\n",
       "      <th>3</th>\n",
       "      <td>0x0ed9fa7a9222125d22502dbb4a93dd3705d777ac</td>\n",
       "      <td>4</td>\n",
       "      <td>11</td>\n",
       "      <td>2.500000</td>\n",
       "      <td>1.000000</td>\n",
       "      <td>0</td>\n",
       "    </tr>\n",
       "    <tr>\n",
       "      <th>4</th>\n",
       "      <td>0x8fe7d9643077b4ab2885cb2dad4236cc4784413f</td>\n",
       "      <td>9</td>\n",
       "      <td>233</td>\n",
       "      <td>12.333333</td>\n",
       "      <td>1.444444</td>\n",
       "      <td>0</td>\n",
       "    </tr>\n",
       "  </tbody>\n",
       "</table>\n",
       "</div>"
      ],
      "text/plain": [
       "                                 from_address  no_day_active  total_tx  \\\n",
       "0  0xf314ad60c32f80671d00e3de35e44a130829b795              3        11   \n",
       "1  0x000000000035b5e5ad9019092c665357240f594e              9      1021   \n",
       "2  0x000000000000f0bc41c73af48f022f8c27b5350e              3         3   \n",
       "3  0x0ed9fa7a9222125d22502dbb4a93dd3705d777ac              4        11   \n",
       "4  0x8fe7d9643077b4ab2885cb2dad4236cc4784413f              9       233   \n",
       "\n",
       "   avg_hour_act_per_day  avg_hour_freq  bot  \n",
       "0              2.000000       1.333333    0  \n",
       "1             20.111111       5.222222    0  \n",
       "2              1.000000       1.000000    0  \n",
       "3              2.500000       1.000000    0  \n",
       "4             12.333333       1.444444    0  "
      ]
     },
     "execution_count": 57,
     "metadata": {},
     "output_type": "execute_result"
    }
   ],
   "source": [
    "sushiswap_pred = pd.concat([sushiswap,sushi_pred_df], axis = 1)\n",
    "sushiswap_pred.head()"
   ]
  },
  {
   "cell_type": "code",
   "execution_count": 58,
   "id": "923adabc",
   "metadata": {},
   "outputs": [
    {
     "data": {
      "text/plain": [
       "0    198\n",
       "1     13\n",
       "Name: bot, dtype: int64"
      ]
     },
     "execution_count": 58,
     "metadata": {},
     "output_type": "execute_result"
    }
   ],
   "source": [
    "sushiswap_pred['bot'].value_counts()"
   ]
  },
  {
   "cell_type": "code",
   "execution_count": 59,
   "id": "b6d58d1f",
   "metadata": {},
   "outputs": [
    {
     "data": {
      "text/html": [
       "<div>\n",
       "<style scoped>\n",
       "    .dataframe tbody tr th:only-of-type {\n",
       "        vertical-align: middle;\n",
       "    }\n",
       "\n",
       "    .dataframe tbody tr th {\n",
       "        vertical-align: top;\n",
       "    }\n",
       "\n",
       "    .dataframe thead th {\n",
       "        text-align: right;\n",
       "    }\n",
       "</style>\n",
       "<table border=\"1\" class=\"dataframe\">\n",
       "  <thead>\n",
       "    <tr style=\"text-align: right;\">\n",
       "      <th></th>\n",
       "      <th>from_address</th>\n",
       "      <th>no_day_active</th>\n",
       "      <th>total_tx</th>\n",
       "      <th>avg_hour_act_per_day</th>\n",
       "      <th>avg_hour_freq</th>\n",
       "      <th>bot</th>\n",
       "    </tr>\n",
       "  </thead>\n",
       "  <tbody>\n",
       "    <tr>\n",
       "      <th>13</th>\n",
       "      <td>0x000000000d8aaaebcb2b0ffd69bb6e3778a39515</td>\n",
       "      <td>1</td>\n",
       "      <td>13</td>\n",
       "      <td>1.000000</td>\n",
       "      <td>13.000000</td>\n",
       "      <td>1</td>\n",
       "    </tr>\n",
       "    <tr>\n",
       "      <th>58</th>\n",
       "      <td>0xd9e1ce17f2641f24ae83637ab66a2cca9c378b9f</td>\n",
       "      <td>9</td>\n",
       "      <td>63827</td>\n",
       "      <td>24.000000</td>\n",
       "      <td>295.000000</td>\n",
       "      <td>1</td>\n",
       "    </tr>\n",
       "    <tr>\n",
       "      <th>106</th>\n",
       "      <td>0x51399b32cd0186bb32230e24167489f3b2f47870</td>\n",
       "      <td>9</td>\n",
       "      <td>2356</td>\n",
       "      <td>23.111111</td>\n",
       "      <td>10.666667</td>\n",
       "      <td>1</td>\n",
       "    </tr>\n",
       "    <tr>\n",
       "      <th>136</th>\n",
       "      <td>0xdef1c0ded9bec7f1a1670819833240f027b25eff</td>\n",
       "      <td>9</td>\n",
       "      <td>14009</td>\n",
       "      <td>24.000000</td>\n",
       "      <td>64.333333</td>\n",
       "      <td>1</td>\n",
       "    </tr>\n",
       "    <tr>\n",
       "      <th>143</th>\n",
       "      <td>0x7cf09d7a9a74f746edcb06949b9d64bcd9d1604f</td>\n",
       "      <td>9</td>\n",
       "      <td>2654</td>\n",
       "      <td>23.666667</td>\n",
       "      <td>12.000000</td>\n",
       "      <td>1</td>\n",
       "    </tr>\n",
       "    <tr>\n",
       "      <th>150</th>\n",
       "      <td>0xeef86c2e49e11345f1a693675df9a38f7d880c8f</td>\n",
       "      <td>9</td>\n",
       "      <td>1678</td>\n",
       "      <td>22.444444</td>\n",
       "      <td>7.666667</td>\n",
       "      <td>1</td>\n",
       "    </tr>\n",
       "    <tr>\n",
       "      <th>158</th>\n",
       "      <td>0x1111111254fb6c44bac0bed2854e76f90643097d</td>\n",
       "      <td>9</td>\n",
       "      <td>16478</td>\n",
       "      <td>24.000000</td>\n",
       "      <td>75.777778</td>\n",
       "      <td>1</td>\n",
       "    </tr>\n",
       "    <tr>\n",
       "      <th>162</th>\n",
       "      <td>0xa57bd00134b2850b2a1c55860c9e9ea100fdd6cf</td>\n",
       "      <td>9</td>\n",
       "      <td>3281</td>\n",
       "      <td>23.888889</td>\n",
       "      <td>14.777778</td>\n",
       "      <td>1</td>\n",
       "    </tr>\n",
       "    <tr>\n",
       "      <th>163</th>\n",
       "      <td>0x0000005c9426e6910f22f0c00ed3690a4884dd6e</td>\n",
       "      <td>9</td>\n",
       "      <td>3419</td>\n",
       "      <td>23.666667</td>\n",
       "      <td>15.333333</td>\n",
       "      <td>1</td>\n",
       "    </tr>\n",
       "    <tr>\n",
       "      <th>174</th>\n",
       "      <td>0x220bda5c8994804ac96ebe4df184d25e5c2196d4</td>\n",
       "      <td>9</td>\n",
       "      <td>2582</td>\n",
       "      <td>24.000000</td>\n",
       "      <td>11.444444</td>\n",
       "      <td>1</td>\n",
       "    </tr>\n",
       "    <tr>\n",
       "      <th>181</th>\n",
       "      <td>0x11111112542d85b3ef69ae05771c2dccff4faa26</td>\n",
       "      <td>9</td>\n",
       "      <td>1795</td>\n",
       "      <td>23.888889</td>\n",
       "      <td>7.888889</td>\n",
       "      <td>1</td>\n",
       "    </tr>\n",
       "    <tr>\n",
       "      <th>189</th>\n",
       "      <td>0x4d246be90c2f36730bb853ad41d0a189061192d3</td>\n",
       "      <td>9</td>\n",
       "      <td>1688</td>\n",
       "      <td>23.555556</td>\n",
       "      <td>7.444444</td>\n",
       "      <td>1</td>\n",
       "    </tr>\n",
       "    <tr>\n",
       "      <th>192</th>\n",
       "      <td>0xdef171fe48cf0115b1d80b88dc8eab59176fee57</td>\n",
       "      <td>9</td>\n",
       "      <td>1922</td>\n",
       "      <td>23.777778</td>\n",
       "      <td>8.555556</td>\n",
       "      <td>1</td>\n",
       "    </tr>\n",
       "  </tbody>\n",
       "</table>\n",
       "</div>"
      ],
      "text/plain": [
       "                                   from_address  no_day_active  total_tx  \\\n",
       "13   0x000000000d8aaaebcb2b0ffd69bb6e3778a39515              1        13   \n",
       "58   0xd9e1ce17f2641f24ae83637ab66a2cca9c378b9f              9     63827   \n",
       "106  0x51399b32cd0186bb32230e24167489f3b2f47870              9      2356   \n",
       "136  0xdef1c0ded9bec7f1a1670819833240f027b25eff              9     14009   \n",
       "143  0x7cf09d7a9a74f746edcb06949b9d64bcd9d1604f              9      2654   \n",
       "150  0xeef86c2e49e11345f1a693675df9a38f7d880c8f              9      1678   \n",
       "158  0x1111111254fb6c44bac0bed2854e76f90643097d              9     16478   \n",
       "162  0xa57bd00134b2850b2a1c55860c9e9ea100fdd6cf              9      3281   \n",
       "163  0x0000005c9426e6910f22f0c00ed3690a4884dd6e              9      3419   \n",
       "174  0x220bda5c8994804ac96ebe4df184d25e5c2196d4              9      2582   \n",
       "181  0x11111112542d85b3ef69ae05771c2dccff4faa26              9      1795   \n",
       "189  0x4d246be90c2f36730bb853ad41d0a189061192d3              9      1688   \n",
       "192  0xdef171fe48cf0115b1d80b88dc8eab59176fee57              9      1922   \n",
       "\n",
       "     avg_hour_act_per_day  avg_hour_freq  bot  \n",
       "13               1.000000      13.000000    1  \n",
       "58              24.000000     295.000000    1  \n",
       "106             23.111111      10.666667    1  \n",
       "136             24.000000      64.333333    1  \n",
       "143             23.666667      12.000000    1  \n",
       "150             22.444444       7.666667    1  \n",
       "158             24.000000      75.777778    1  \n",
       "162             23.888889      14.777778    1  \n",
       "163             23.666667      15.333333    1  \n",
       "174             24.000000      11.444444    1  \n",
       "181             23.888889       7.888889    1  \n",
       "189             23.555556       7.444444    1  \n",
       "192             23.777778       8.555556    1  "
      ]
     },
     "execution_count": 59,
     "metadata": {},
     "output_type": "execute_result"
    }
   ],
   "source": [
    "sushiswap_pred[sushiswap_pred['bot']==1]"
   ]
  },
  {
   "cell_type": "code",
   "execution_count": null,
   "id": "50721de0",
   "metadata": {},
   "outputs": [],
   "source": []
  }
 ],
 "metadata": {
  "kernelspec": {
   "display_name": "Python 3 (ipykernel)",
   "language": "python",
   "name": "python3"
  },
  "language_info": {
   "codemirror_mode": {
    "name": "ipython",
    "version": 3
   },
   "file_extension": ".py",
   "mimetype": "text/x-python",
   "name": "python",
   "nbconvert_exporter": "python",
   "pygments_lexer": "ipython3",
   "version": "3.9.7"
  }
 },
 "nbformat": 4,
 "nbformat_minor": 5
}
